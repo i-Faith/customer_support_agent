{
 "cells": [
  {
   "cell_type": "code",
   "execution_count": 29,
   "id": "d502a9a1",
   "metadata": {},
   "outputs": [],
   "source": [
    "#importing libraries\n",
    "import os\n",
    "from dotenv import load_dotenv\n",
    "from langchain_core.prompts import ChatPromptTemplate,HumanMessagePromptTemplate\n",
    "from langchain_core.output_parsers import StrOutputParser\n",
    "from langchain_groq import ChatGroq\n",
    "from typing import TypedDict,Dict\n",
    "from langgraph.graph import StateGraph,END\n",
    "from IPython.display import display,Image\n",
    "from langchain_core.runnables.graph import MermaidDrawMethod,NodeStyles\n"
   ]
  },
  {
   "cell_type": "code",
   "execution_count": 30,
   "id": "40ed0f7f",
   "metadata": {},
   "outputs": [
    {
     "name": "stdout",
     "output_type": "stream",
     "text": [
      "Groq API Key loaded succesfully\n"
     ]
    }
   ],
   "source": [
    "#Loading the api key\n",
    "load_dotenv()\n",
    "groq_api_key=os.getenv(\"groq_api_key\")\n",
    "\n",
    "if groq_api_key:\n",
    "    print(\"Groq API Key loaded succesfully\")\n",
    "else:\n",
    "    print(\"Error: Groq API Key was not found\")"
   ]
  },
  {
   "cell_type": "markdown",
   "id": "1073ff55",
   "metadata": {},
   "source": [
    "#### State Structure"
   ]
  },
  {
   "cell_type": "code",
   "execution_count": 31,
   "id": "aa824403",
   "metadata": {},
   "outputs": [],
   "source": [
    "class State (TypedDict):\n",
    "    query:str\n",
    "    category:str\n",
    "    sentiment:str\n",
    "    response:str\n",
    "    \n"
   ]
  },
  {
   "cell_type": "code",
   "execution_count": 32,
   "id": "b1be2e1c",
   "metadata": {},
   "outputs": [],
   "source": [
    "#Defining the LLM\n",
    "llm=ChatGroq(\n",
    "    groq_api_key=groq_api_key,\n",
    "    temperature=0,\n",
    "    model_name=\"llama-3.3-70b-versatile\"\n",
    ")"
   ]
  },
  {
   "cell_type": "markdown",
   "id": "0e7d620b",
   "metadata": {},
   "source": [
    "#### Node Function"
   ]
  },
  {
   "cell_type": "code",
   "execution_count": 33,
   "id": "463dfbc9",
   "metadata": {},
   "outputs": [],
   "source": [
    "#keywords\n",
    "technical_keywords = [\"error\", \"bug\", \"crash\", \"technical issue\", \"problem\",\"won't work\"]\n",
    "billing_keywords = [\"amount\",\"balance\",\"invoice\", \"refund\", \"payment\", \"charge\", \"billing\"]\n",
    "general_keywords = [\"time\",\"deliver\", \"location\", \"info\", \"support\", \"contact\"]"
   ]
  },
  {
   "cell_type": "code",
   "execution_count": 34,
   "id": "49b5e3c8",
   "metadata": {},
   "outputs": [],
   "source": [
    "def keyword_route(query: str) -> str:\n",
    "    query_lower = query.lower()\n",
    "    \n",
    "    if any(keyword in query_lower for keyword in technical_keywords):\n",
    "        return \"Technical\"\n",
    "    elif any(keyword in query_lower for keyword in billing_keywords):\n",
    "        return \"Billing\"\n",
    "    elif any(keyword in query_lower for keyword in general_keywords):\n",
    "        return \"General\"\n",
    "    else:\n",
    "        return \"Unknown\"\n"
   ]
  },
  {
   "cell_type": "code",
   "execution_count": 35,
   "id": "db199fac",
   "metadata": {},
   "outputs": [],
   "source": [
    "#Category function\n",
    "def categorize(state: State) -> State:\n",
    "    query = state[\"query\"]\n",
    "    # First, trying keyword-based categorization\n",
    "    category = keyword_route(query)\n",
    "    # If keywords didn't match, use LLM\n",
    "    if category == \"Unknown\":\n",
    "        prompt = ChatPromptTemplate.from_template(\n",
    "            \"Categorize the following customer query into one of these categories: \"\n",
    "            \"Technical, Billing, General. Query: {query}\"\n",
    "        )\n",
    "        chain = prompt | llm\n",
    "        category = chain.invoke({\"query\": state['query']}).content\n",
    "    return {\"category\": category}\n"
   ]
  },
  {
   "cell_type": "code",
   "execution_count": 36,
   "id": "aa83897d",
   "metadata": {},
   "outputs": [],
   "source": [
    "#Sentiment function\n",
    "def analyze_sentiment(state: State) -> State:\n",
    "    prompt = ChatPromptTemplate.from_template(\n",
    "        \"Analyze the sentiment of the following customer query. \"\n",
    "        \"Respond with either 'Positive', 'Neutral', or 'Negative'. Query: {query}\"\n",
    "    )\n",
    "    chain = prompt | llm\n",
    "    sentiment = chain.invoke({\"query\": state['query']}).content  \n",
    "    return {\"sentiment\": sentiment} \n"
   ]
  },
  {
   "cell_type": "code",
   "execution_count": 37,
   "id": "6fac092b",
   "metadata": {},
   "outputs": [],
   "source": [
    "#Technical function\n",
    "def handle_technical(state : State) -> State:\n",
    "    prompt = ChatPromptTemplate.from_template(\n",
    "        \"Provide a technical support response to the following query : {query}\"\n",
    "    )\n",
    "    chain = prompt | llm\n",
    "    response = chain.invoke({\"query\" : state['query']}).content\n",
    "    return {\"response\" : response}"
   ]
  },
  {
   "cell_type": "code",
   "execution_count": 38,
   "id": "c232f96a",
   "metadata": {},
   "outputs": [],
   "source": [
    "#Billing function\n",
    "def handle_billing(state : State) -> State:\n",
    "    prompt = ChatPromptTemplate.from_template(\n",
    "        \"Provide a billing support response to the following query : {query}\"\n",
    "    )\n",
    "    chain = prompt | llm\n",
    "    response = chain.invoke({\"query\" : state['query']}).content\n",
    "    return {\"response\" : response}"
   ]
  },
  {
   "cell_type": "code",
   "execution_count": 39,
   "id": "fe7281e3",
   "metadata": {},
   "outputs": [],
   "source": [
    "#General function\n",
    "def handle_general(state : State) -> State:\n",
    "    prompt = ChatPromptTemplate.from_template(\n",
    "        \"Provide a general support response to the following query : {query}\"\n",
    "    )\n",
    "    chain = prompt | llm\n",
    "    response = chain.invoke({\"query\" : state['query']}).content\n",
    "    return {\"response\" : response}"
   ]
  },
  {
   "cell_type": "code",
   "execution_count": 40,
   "id": "7d4afce9",
   "metadata": {},
   "outputs": [],
   "source": [
    "def escalate(state : State) -> State:\n",
    "    return{\"response\" : \"This query has been escalate to a human agent due to its negative sentiment\"}"
   ]
  },
  {
   "cell_type": "code",
   "execution_count": 41,
   "id": "f8a0c8ec",
   "metadata": {},
   "outputs": [],
   "source": [
    "def route_query(state: State):\n",
    "    query = state[\"query\"]\n",
    "    keyword_category = keyword_route(query)\n",
    "    if state[\"sentiment\"]=='Negative':\n",
    "        return \"escalate\"\n",
    "    # keyword route first\n",
    "    if keyword_category == \"Technical\":\n",
    "        return \"handle_technical\"\n",
    "    elif keyword_category == \"Billing\":\n",
    "        return \"handle_billing\"\n",
    "    elif keyword_category == \"General\":\n",
    "        return \"handle_general\"\n",
    "\n",
    "    # Otherwise fallback to LLM-based categorization\n",
    "    if state[\"category\"] == \"Technical\":\n",
    "        return \"handle_technical\"\n",
    "    elif state[\"category\"] == \"Billing\":\n",
    "        return \"handle_billing\"\n",
    "    else:\n",
    "        return \"handle_general\"\n"
   ]
  },
  {
   "cell_type": "markdown",
   "id": "f9e6ffd4",
   "metadata": {},
   "source": [
    "#### StateGraph"
   ]
  },
  {
   "cell_type": "code",
   "execution_count": 42,
   "id": "ed58e0cb",
   "metadata": {},
   "outputs": [
    {
     "data": {
      "text/plain": [
       "<langgraph.graph.state.StateGraph at 0x1febc6be490>"
      ]
     },
     "execution_count": 42,
     "metadata": {},
     "output_type": "execute_result"
    }
   ],
   "source": [
    "builder= StateGraph(State)\n",
    "builder.add_node(\"categorize\", categorize)\n",
    "builder.add_node(\"analyze_sentiment\",analyze_sentiment)\n",
    "builder.add_node(\"handle_technical\", handle_technical)\n",
    "builder.add_node(\"handle_billing\", handle_billing)\n",
    "builder.add_node(\"handle_general\", handle_general)\n",
    "builder.add_node(\"escalate\", escalate)"
   ]
  },
  {
   "cell_type": "code",
   "execution_count": 43,
   "id": "f1908e1a",
   "metadata": {},
   "outputs": [
    {
     "data": {
      "text/plain": [
       "<langgraph.graph.state.StateGraph at 0x1febc6be490>"
      ]
     },
     "execution_count": 43,
     "metadata": {},
     "output_type": "execute_result"
    }
   ],
   "source": [
    "#adding edges\n",
    "builder.add_edge(\"categorize\", \"analyze_sentiment\")\n",
    "builder.add_conditional_edges(\"analyze_sentiment\", \n",
    "route_query,{\n",
    "    \"handle_technical\" : \"handle_technical\",\n",
    "    \"handle_billing\": \"handle_billing\",\n",
    "    \"handle_general\" : \"handle_general\",\n",
    "    \"escalate\": \"escalate\"\n",
    "})\n",
    "builder.add_edge(\"handle_technical\", END)\n",
    "builder.add_edge(\"handle_billing\", END)\n",
    "builder.add_edge(\"handle_general\", END)\n",
    "builder.add_edge(\"escalate\", END)"
   ]
  },
  {
   "cell_type": "code",
   "execution_count": 44,
   "id": "e746abbb",
   "metadata": {},
   "outputs": [
    {
     "data": {
      "text/plain": [
       "<langgraph.graph.state.StateGraph at 0x1febc6be490>"
      ]
     },
     "execution_count": 44,
     "metadata": {},
     "output_type": "execute_result"
    }
   ],
   "source": [
    "#Entry point\n",
    "builder.set_entry_point(\"categorize\")"
   ]
  },
  {
   "cell_type": "code",
   "execution_count": 45,
   "id": "07f77331",
   "metadata": {},
   "outputs": [],
   "source": [
    "#Compiling\n",
    "app=builder.compile()"
   ]
  },
  {
   "cell_type": "code",
   "execution_count": 46,
   "id": "5268b706",
   "metadata": {},
   "outputs": [
    {
     "data": {
      "image/png": "[encoded data removed]",
      "text/plain": [
       "<IPython.core.display.Image object>"
      ]
     },
     "metadata": {},
     "output_type": "display_data"
    }
   ],
   "source": [
    "#vizualise the graph\n",
    "display(\n",
    "    Image(\n",
    "        app.get_graph().draw_mermaid_png(\n",
    "            draw_method = MermaidDrawMethod.API\n",
    "        )\n",
    "\n",
    "))"
   ]
  },
  {
   "cell_type": "code",
   "execution_count": 47,
   "id": "489d5976",
   "metadata": {},
   "outputs": [
    {
     "name": "stdout",
     "output_type": "stream",
     "text": [
      "---\n",
      "config:\n",
      "  flowchart:\n",
      "    curve: linear\n",
      "---\n",
      "graph TD;\n",
      "\t__start__([<p>__start__</p>]):::first\n",
      "\tcategorize(categorize)\n",
      "\tanalyze_sentiment(analyze_sentiment)\n",
      "\thandle_technical(handle_technical)\n",
      "\thandle_billing(handle_billing)\n",
      "\thandle_general(handle_general)\n",
      "\tescalate(escalate)\n",
      "\t__end__([<p>__end__</p>]):::last\n",
      "\t__start__ --> categorize;\n",
      "\tanalyze_sentiment -.-> escalate;\n",
      "\tanalyze_sentiment -.-> handle_billing;\n",
      "\tanalyze_sentiment -.-> handle_general;\n",
      "\tanalyze_sentiment -.-> handle_technical;\n",
      "\tcategorize --> analyze_sentiment;\n",
      "\tescalate --> __end__;\n",
      "\thandle_billing --> __end__;\n",
      "\thandle_general --> __end__;\n",
      "\thandle_technical --> __end__;\n",
      "\tclassDef default purple\n",
      "\tclassDef first fill-opacity:0\n",
      "\tclassDef last fill:#bfb6fc\n",
      "\n"
     ]
    }
   ],
   "source": [
    "mermaid_code = app.get_graph().draw_mermaid(\n",
    "    node_colors=NodeStyles(default=\"purple\")\n",
    ")\n",
    "print(mermaid_code)"
   ]
  },
  {
   "cell_type": "markdown",
   "id": "bfa8f7f9",
   "metadata": {},
   "source": [
    "#### CUSTOMER SUPPORT FUNCTION"
   ]
  },
  {
   "cell_type": "code",
   "execution_count": 48,
   "id": "03758db9",
   "metadata": {},
   "outputs": [],
   "source": [
    "def run_customer_support(query: str) -> dict:\n",
    "    result = app.invoke({\"query\": query})\n",
    "    return {\n",
    "        \"category\": result.get('category', 'Unknown'),\n",
    "        \"sentiment\": result.get('sentiment', 'Neutral'),\n",
    "        \"response\": result.get('response', 'No response')\n",
    "    }\n"
   ]
  },
  {
   "cell_type": "code",
   "execution_count": 49,
   "id": "0470e43c",
   "metadata": {},
   "outputs": [
    {
     "name": "stdout",
     "output_type": "stream",
     "text": [
      "Query: How long will the delivery take?\n",
      "Category: General\n",
      "Sentiment: Neutral. The customer is seeking information about the delivery time, but there is no emotional tone or language indicating satisfaction, dissatisfaction, or any other sentiment.\n",
      "Response: Thank you for reaching out to us about your delivery. The delivery time for your order may vary depending on your location and the shipping method you've chosen. \n",
      "\n",
      "Typically, our standard delivery takes between 3-7 business days, while our express delivery option can take as little as 1-3 business days. However, please note that these times are estimates and may be affected by factors such as weather conditions, traffic, and the efficiency of our courier services.\n",
      "\n",
      "To get a more accurate estimate of your delivery time, I recommend checking your order confirmation email for the tracking details. You can use the tracking number to monitor the status of your package on the courier's website.\n",
      "\n",
      "If you have any further questions or concerns about your delivery, please don't hesitate to contact us. We're here to help and want to ensure that you receive your order as soon as possible.\n"
     ]
    }
   ],
   "source": [
    "#Testing\n",
    "query = \"How long will the delivery take?\"\n",
    "result = run_customer_support(query)\n",
    "\n",
    "print(f\"Query: {query}\")\n",
    "print(f\"Category: {result['category']}\")\n",
    "print(f\"Sentiment: {result['sentiment']}\")\n",
    "print(f\"Response: {result['response']}\")\n",
    "\n"
   ]
  },
  {
   "cell_type": "code",
   "execution_count": 50,
   "id": "28562c92",
   "metadata": {},
   "outputs": [
    {
     "name": "stdout",
     "output_type": "stream",
     "text": [
      "Query: I have not received any good services\n",
      "Category: I would categorize the customer query as \"General\". The query is a broad complaint about the quality of service received, but it does not specifically mention a technical issue or a billing problem. It is a general expression of dissatisfaction with the service.\n",
      "Sentiment: Negative\n",
      "Response: This query has been escalate to a human agent due to its negative sentiment\n"
     ]
    }
   ],
   "source": [
    "#Testing\n",
    "query = \"I have not received any good services\"\n",
    "result = run_customer_support(query)\n",
    "\n",
    "print(f\"Query: {query}\")\n",
    "print(f\"Category: {result['category']}\")\n",
    "print(f\"Sentiment: {result['sentiment']}\")\n",
    "print(f\"Response: {result['response']}\")\n"
   ]
  },
  {
   "cell_type": "code",
   "execution_count": 51,
   "id": "f32becff",
   "metadata": {},
   "outputs": [
    {
     "name": "stdout",
     "output_type": "stream",
     "text": [
      "Query: I want to make an order\n",
      "Category: I would categorize the query \"I want to make an order\" as General. This is because the customer is expressing a desire to place an order, but is not asking a specific technical question or inquiring about billing. The query is more related to the overall process or procedure of making a purchase.\n",
      "Sentiment: Neutral.\n",
      "Response: Thank you for considering making an order with us. We're excited to help you with your purchase. To get started, could you please provide us with some more information about what you're looking to order? This will help us to better assist you and ensure that we can fulfill your request as quickly and efficiently as possible.\n",
      "\n",
      "You can reach out to us through this chat or visit our website to browse our products and services. We're here to help and look forward to hearing from you soon.\n",
      "\n",
      "Some questions to consider when placing your order:\n",
      "\n",
      "* What product or service are you interested in ordering?\n",
      "* What quantity would you like to order?\n",
      "* Do you have any specific delivery or shipping requirements?\n",
      "* Are there any promotions or discounts you'd like to apply to your order?\n",
      "\n",
      "We're here to help and want to make sure that your ordering experience is smooth and hassle-free. Thank you again for considering us, and we look forward to hearing from you soon.\n"
     ]
    }
   ],
   "source": [
    "#Testing\n",
    "query = \"I want to make an order\"\n",
    "result = run_customer_support(query)\n",
    "\n",
    "print(f\"Query: {query}\")\n",
    "print(f\"Category: {result['category']}\")\n",
    "print(f\"Sentiment: {result['sentiment']}\")\n",
    "print(f\"Response: {result['response']}\")\n"
   ]
  },
  {
   "cell_type": "code",
   "execution_count": 52,
   "id": "28ff3989",
   "metadata": {},
   "outputs": [
    {
     "name": "stdout",
     "output_type": "stream",
     "text": [
      "Query: I am happy with your services\n",
      "Category: I would categorize the query as \"General\". The customer is expressing satisfaction with the services, but is not asking a specific technical question or inquiring about billing. It's a general statement of appreciation.\n",
      "Sentiment: Positive\n",
      "Response: Thank you so much for taking the time to share your positive experience with us. We're thrilled to hear that you're happy with our services. Our team works hard to provide the best possible support, and it's great to know that we're meeting your expectations. If you have any other questions or need assistance in the future, don't hesitate to reach out. We're always here to help. Thank you again for your kind words, and we look forward to continuing to serve you.\n"
     ]
    }
   ],
   "source": [
    "#Testing\n",
    "query = \"I am happy with your services\"\n",
    "result = run_customer_support(query)\n",
    "\n",
    "print(f\"Query: {query}\")\n",
    "print(f\"Category: {result['category']}\")\n",
    "print(f\"Sentiment: {result['sentiment']}\")\n",
    "print(f\"Response: {result['response']}\")\n"
   ]
  }
 ],
 "metadata": {
  "kernelspec": {
   "display_name": "Python 3",
   "language": "python",
   "name": "python3"
  },
  "language_info": {
   "codemirror_mode": {
    "name": "ipython",
    "version": 3
   },
   "file_extension": ".py",
   "mimetype": "text/x-python",
   "name": "python",
   "nbconvert_exporter": "python",
   "pygments_lexer": "ipython3",
   "version": "3.13.2"
  }
 },
 "nbformat": 4,
 "nbformat_minor": 5
}
